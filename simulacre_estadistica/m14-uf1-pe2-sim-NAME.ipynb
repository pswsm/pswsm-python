{
 "cells": [
  {
   "cell_type": "markdown",
   "id": "012b2c9c-c595-4e1e-8b67-9abccd1b5f40",
   "metadata": {},
   "source": [
    "# Simulacre Prova escrita 2 - Estadística.\n",
    "\n",
    "## Autor: <nom_cognoms_alumne>\n",
    "\n",
    "#### Consulta al professor quan hagis aconseguit cada gràfic que es demana.\n",
    "\n",
    "#### Criteris d'avaluació.\n",
    "\n",
    "##### Part 1 = 3,5 punts, Part 2 = 2,5 punts, Part 3 = 2 punts, Part 4 = 2 punts. Total = 10 punts.\n",
    "\n",
    "<hr/>\n",
    "\n",
    "## Part 1. Preguntes bàsiques, gestió de valors NA, i outliers. (3,5 punts)\n",
    "\n",
    "### Preguntes bàsiques. 1.5 punts.\n",
    "### Gràfic d'outliers. 2 punts.\n",
    "\n",
    "Us donem el codi de la importació i el context de les dades.\n",
    "\n",
    "### Importació del Dataset"
   ]
  },
  {
   "cell_type": "code",
   "execution_count": 203,
   "id": "7cd312b8-1973-4a24-875c-475c950f1f83",
   "metadata": {},
   "outputs": [],
   "source": [
    "import numpy as np\n",
    "import pandas as pd\n",
    "import seaborn as sns\n",
    "import matplotlib.pyplot as plt\n",
    "import copy"
   ]
  },
  {
   "cell_type": "code",
   "execution_count": 204,
   "id": "aed1e284-f334-48af-a0a3-500de2f64e8d",
   "metadata": {},
   "outputs": [
    {
     "name": "stdout",
     "output_type": "stream",
     "text": [
      "GROUP                   object\n",
      "CODE                    object\n",
      "NAME                    object\n",
      "YEAR                     int64\n",
      "DISEASE                 object\n",
      "DISEASE_DESCRIPTION     object\n",
      "DENOMINATOR             object\n",
      "INCIDENCE_RATE         float64\n",
      "dtype: object\n",
      "          GROUP CODE            NAME  YEAR     DISEASE DISEASE_DESCRIPTION  \\\n",
      "0     Countries  AFG     Afghanistan  1980      YFEVER        Yellow fever   \n",
      "1     Countries  AFG     Afghanistan  1980    NTETANUS    Neonatal tetanus   \n",
      "2     Countries  AFG     Afghanistan  1980    TTETANUS       Total tetanus   \n",
      "3     Countries  AFG     Afghanistan  1980     MEASLES             Measles   \n",
      "4     Countries  AFG     Afghanistan  1980       POLIO       Poliomyelitis   \n",
      "5     Countries  AFG     Afghanistan  1980  DIPHTHERIA          Diphtheria   \n",
      "6     Countries  AFG     Afghanistan  1980   PERTUSSIS           Pertussis   \n",
      "7   WHO Regions  afr  African Region  1980  DIPHTHERIA          Diphtheria   \n",
      "8   WHO Regions  afr  African Region  1980      YFEVER        Yellow fever   \n",
      "9   WHO Regions  afr  African Region  1980    TTETANUS       Total tetanus   \n",
      "10  WHO Regions  afr  African Region  1980   PERTUSSIS           Pertussis   \n",
      "11  WHO Regions  afr  African Region  1980    NTETANUS    Neonatal tetanus   \n",
      "12  WHO Regions  afr  African Region  1980     MEASLES             Measles   \n",
      "13  WHO Regions  afr  African Region  1980       POLIO       Poliomyelitis   \n",
      "14    Countries  AGO          Angola  1980   PERTUSSIS           Pertussis   \n",
      "15    Countries  AGO          Angola  1980    NTETANUS    Neonatal tetanus   \n",
      "16    Countries  AGO          Angola  1980     MEASLES             Measles   \n",
      "17    Countries  AGO          Angola  1980      YFEVER        Yellow fever   \n",
      "18    Countries  AGO          Angola  1980  DIPHTHERIA          Diphtheria   \n",
      "19    Countries  AGO          Angola  1980    TTETANUS       Total tetanus   \n",
      "\n",
      "                       DENOMINATOR  INCIDENCE_RATE  \n",
      "0   per 1,000,000 total population             0.0  \n",
      "1            per 1,000 live births             0.0  \n",
      "2   per 1,000,000 total population           121.1  \n",
      "3   per 1,000,000 total population          2429.9  \n",
      "4     per 1,000,000 <15 population           142.7  \n",
      "5   per 1,000,000 total population           145.2  \n",
      "6   per 1,000,000 total population          1179.1  \n",
      "7   per 1,000,000 total population            25.0  \n",
      "8   per 1,000,000 total population             0.3  \n",
      "9   per 1,000,000 total population            51.0  \n",
      "10  per 1,000,000 total population          1180.0  \n",
      "11            per 1000 live births             0.6  \n",
      "12  per 1,000,000 total population          3443.8  \n",
      "13    per 1,000,000 <15 population            30.7  \n",
      "14  per 1,000,000 total population          6488.9  \n",
      "15           per 1,000 live births             1.3  \n",
      "16  per 1,000,000 total population          3555.3  \n",
      "17  per 1,000,000 total population             NaN  \n",
      "18  per 1,000,000 total population             0.0  \n",
      "19  per 1,000,000 total population           142.1  \n"
     ]
    }
   ],
   "source": [
    "incidence_raw = pd.read_csv(\"incidence-rate-2020.csv\", sep=';', decimal=\",\")\n",
    "\n",
    "incidence_new = copy.deepcopy(incidence_raw)\n",
    "\n",
    "print(incidence_raw.dtypes)\n",
    "\n",
    "print(incidence_raw.head(20))"
   ]
  },
  {
   "cell_type": "markdown",
   "id": "e31cb267-68e4-4fdb-85f2-6b9d7d073cc4",
   "metadata": {},
   "source": [
    "### Explicació del context. Què son aquestes dades? Posar referències.\n",
    "\n",
    "Representen els ratios d'incidencia de casos de diferents enfermedades contagioses en molts països. \n",
    "Aquest ratio està representat pel camp **INCIDENCE_RATE.**\n",
    "\n",
    "S'utilitzen diverses maneres de calcular aquestes ratios, ho indica el camp **DENOMINATOR.**\n",
    "No és el mateix mesurar 'per 1,000,000 total population' que ';per 1,000,000 <15 population'\n",
    "\n",
    "**GROUP** Pot ser un país, una agrupació de països o un estat.\n",
    "\n",
    "**CODE** és la abreviatura del nom del país/estat/grup **NAME** .\n",
    "\n",
    "**DISEASE** és el nom de la enfermetat.\n",
    "\n",
    "**YEAR**: Des de 1980 a 2021\n",
    "\n",
    "#### Referència:\n",
    "\n",
    "Dataset extret del portal Inmunization Data, de la WHO (la OMS)\n",
    "\n",
    "[https://immunizationdata.who.int/listing.html?topic=&location=]"
   ]
  },
  {
   "cell_type": "markdown",
   "id": "c647ef68-1bf1-4d17-80bb-339e4c993229",
   "metadata": {},
   "source": [
    "#### Quantes files té el dataset ? "
   ]
  },
  {
   "cell_type": "code",
   "execution_count": 205,
   "id": "aed1e284-f334-48af-a0a3-500de2f64e8d",
   "metadata": {},
   "outputs": [],
   "source": [
    "# Posa aquí el teu codi"
   ]
  },
  {
   "cell_type": "markdown",
   "id": "865ac829",
   "metadata": {},
   "source": [
    "### Llista els valors possibles que poden tenir els camps DENOMINATOR i el DISEASE."
   ]
  },
  {
   "cell_type": "code",
   "execution_count": 206,
   "id": "758045f3-1e52-4e56-a670-48d5048e0c34",
   "metadata": {},
   "outputs": [],
   "source": [
    "# Posa aquí el teu codi"
   ]
  },
  {
   "cell_type": "code",
   "execution_count": 207,
   "id": "1ead96c9",
   "metadata": {},
   "outputs": [],
   "source": [
    "# Posa aquí el teu codi"
   ]
  },
  {
   "cell_type": "markdown",
   "id": "ea52cb18",
   "metadata": {},
   "source": [
    "### Optimització del dataframe.\n",
    "\n",
    "Elimina la fila \"DISEASE_DESCRIPTION\". No és necessari tenir aquesta fila dins d'aquesta taula.\n",
    "\n",
    "En SQL aquests valors estarien en una taula apart, accessible des d'una foreign key comuna entre les 2 taules, que seria DISEASE."
   ]
  },
  {
   "cell_type": "code",
   "execution_count": 208,
   "id": "bd3e9210",
   "metadata": {},
   "outputs": [],
   "source": [
    "# Posa aquí el teu codi"
   ]
  },
  {
   "cell_type": "markdown",
   "id": "9398166a",
   "metadata": {},
   "source": [
    "### Hi ha NAs? En quines columnes ? Quina columna en té més ? "
   ]
  },
  {
   "cell_type": "code",
   "execution_count": 209,
   "id": "efadab0f-ca3c-4903-a854-47585943ab0e",
   "metadata": {},
   "outputs": [],
   "source": [
    "# Posa aquí el teu codi"
   ]
  },
  {
   "cell_type": "markdown",
   "id": "d7d760b0-d1a9-4fd7-bafa-b2b8af7bfdc5",
   "metadata": {},
   "source": [
    "### Separar el dataframe en 2 parts: les files que tenen el GROUP = Countries i els que tenen GROUP = WHO_REGIONS.\n",
    "\n",
    "#### Guarda els 2 dataframes en 2 fitxers. Us proporcionem una còpia dels fitxers a la carpeta output per si no us surt."
   ]
  },
  {
   "cell_type": "code",
   "execution_count": 210,
   "id": "99d6c3dd-0258-4c2d-8142-458602894989",
   "metadata": {},
   "outputs": [],
   "source": [
    "# Posa aquí el teu codi i descomenta la línia de baix\n",
    "\n",
    "# df_incidence_regions.to_csv('incidence_rate_2020_regions.csv', index=False)\n",
    "\n",
    "# Posa aquí el teu codi i descomenta la línia de baix\n",
    "\n",
    "# df_incidence_countries.to_csv('incidence_rate_2020_countries.csv', index=False, sep=';', decimal=\",\")"
   ]
  },
  {
   "cell_type": "markdown",
   "id": "a05cb88e-c05b-46f2-8f40-4cec26c66f02",
   "metadata": {},
   "source": [
    "### Gràfics d'Outliers.\n",
    "\n",
    "Des del fitxer <em>incidence_rate_2020_countries.csv<em> o des del dataframe que has aconseguit; \n",
    "crea un gràfic plotbox de les enfermetats que es mesuren amb el denominador: 'per 1,000,000 total population'.\n",
    "\n",
    "<em>Pista: Recomanem fer-lo amb seaborn, que permet seleccionar quina fila i columna volem posar al gràfic<em>"
   ]
  },
  {
   "cell_type": "code",
   "execution_count": 211,
   "id": "74461132-e4e1-4978-805d-0fde75b502fd",
   "metadata": {},
   "outputs": [],
   "source": [
    "# Posa aquí la teva solució"
   ]
  },
  {
   "cell_type": "markdown",
   "id": "6dbc86c8",
   "metadata": {},
   "source": [
    "### Ara, fes un plotbox de les enfermetats a Espanya."
   ]
  },
  {
   "cell_type": "code",
   "execution_count": 212,
   "id": "49b79018",
   "metadata": {},
   "outputs": [],
   "source": [
    "# Posa aquí la teva solució"
   ]
  },
  {
   "cell_type": "markdown",
   "id": "ceb1f275-35b8-4fed-aae0-7d3d7dbfa043",
   "metadata": {},
   "source": [
    "### Part 2 - Fes una gràfica de línies (o similar) on es vegi la incidència de 3 enfermetats a Espanya des del 1980 fins el 2020, ambdós inclosos. (2,5 punts)\n",
    "\n",
    "Per exemple: MEASLES, MUMPS, PERTUSSIS. \n",
    "<em>Serien: paperes, xarampió, tos ferina.</em>"
   ]
  },
  {
   "cell_type": "code",
   "execution_count": 213,
   "id": "084f5b7f-a60f-47e4-9cdc-0cbf9a0aee49",
   "metadata": {},
   "outputs": [],
   "source": [
    "# Posa aquí la teva solució"
   ]
  },
  {
   "cell_type": "markdown",
   "id": "5cff9289",
   "metadata": {},
   "source": [
    "## Part 3. Crea un gràfic que serveixin per comparar les dades de sarampió (measles) a Espanya i almenys a 2 països més. (2 punts)"
   ]
  },
  {
   "cell_type": "code",
   "execution_count": 214,
   "id": "a478bd48",
   "metadata": {},
   "outputs": [],
   "source": [
    "# Posa aquí la teva solució"
   ]
  },
  {
   "cell_type": "markdown",
   "id": "a040e220-f3cd-4034-87e0-083018728bd4",
   "metadata": {},
   "source": [
    "## Part 4. Scatterplots i/o recta de regressió entre parelles d'enfermetats. (2 punts)\n",
    "\n",
    "Ens demanen comparar aquestes parelles d'enfermetats; per saber si existeix correlació entre elles.\n",
    "\n",
    "Com a mínim ens demanen estudiar aquestes:\n",
    "\n",
    "1. PERTUSSIS i MEASELS. \n",
    "2. MUMPS i PERTUSSIS."
   ]
  },
  {
   "cell_type": "code",
   "execution_count": 215,
   "id": "e0c07166",
   "metadata": {},
   "outputs": [],
   "source": [
    "# Posa aquí la teva solució"
   ]
  },
  {
   "cell_type": "markdown",
   "id": "2ca624d7-4342-46f6-847a-bdfcd898ed29",
   "metadata": {},
   "source": [
    "### Creus que hi ha una bona correlació entre aquests parells d'enfermetats ? "
   ]
  },
  {
   "cell_type": "markdown",
   "id": "001574bd-cb3f-47f0-a095-5a3b14818cb0",
   "metadata": {},
   "source": [
    "RESPOSTA.\n"
   ]
  }
 ],
 "metadata": {
  "kernelspec": {
   "display_name": "Python 3.10.6 ('bio')",
   "language": "python",
   "name": "python3"
  },
  "language_info": {
   "codemirror_mode": {
    "name": "ipython",
    "version": 3
   },
   "file_extension": ".py",
   "mimetype": "text/x-python",
   "name": "python",
   "nbconvert_exporter": "python",
   "pygments_lexer": "ipython3",
   "version": "3.10.6"
  },
  "toc-autonumbering": true,
  "vscode": {
   "interpreter": {
    "hash": "80d9a229293de82ff0a6cdcaeef08119522d819e34b64930a164959170ead25a"
   }
  }
 },
 "nbformat": 4,
 "nbformat_minor": 5
}
