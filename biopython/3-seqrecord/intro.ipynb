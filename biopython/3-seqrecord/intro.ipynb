{
 "cells": [
  {
   "cell_type": "code",
   "execution_count": 5,
   "metadata": {},
   "outputs": [
    {
     "data": {
      "text/plain": [
       "SeqRecord(seq=Seq('CGTAACAAGGTTTCCGTAGGTGAACCTGCGGAAGGATCATTGTTGAGACAACAG...GGC'), id='gi|2765657|emb|Z78532.1|CCZ78532', name='gi|2765657|emb|Z78532.1|CCZ78532', description='gi|2765657|emb|Z78532.1|CCZ78532 C.californicum 5.8S rRNA gene and ITS1 and ITS2 DNA', dbxrefs=[])"
      ]
     },
     "execution_count": 5,
     "metadata": {},
     "output_type": "execute_result"
    }
   ],
   "source": [
    "from Bio import SeqIO\n",
    "from Bio.Seq import Seq\n",
    "\n",
    "\n",
    "seq = Seq(\"AGTACACTGGT\")\n",
    "\n",
    "seq_list = list(SeqIO.parse('/bio/data/ls_orchid.fasta', 'fasta'))\n",
    "\n",
    "len(seq_list)\n",
    "seq = seq_list[1]\n",
    "seq\n"
   ]
  },
  {
   "cell_type": "code",
   "execution_count": 6,
   "metadata": {},
   "outputs": [
    {
     "data": {
      "text/plain": [
       "['__add__',\n",
       " '__bool__',\n",
       " '__class__',\n",
       " '__contains__',\n",
       " '__delattr__',\n",
       " '__dict__',\n",
       " '__dir__',\n",
       " '__doc__',\n",
       " '__eq__',\n",
       " '__format__',\n",
       " '__ge__',\n",
       " '__getattribute__',\n",
       " '__getitem__',\n",
       " '__gt__',\n",
       " '__hash__',\n",
       " '__init__',\n",
       " '__init_subclass__',\n",
       " '__iter__',\n",
       " '__le__',\n",
       " '__len__',\n",
       " '__lt__',\n",
       " '__module__',\n",
       " '__ne__',\n",
       " '__new__',\n",
       " '__radd__',\n",
       " '__reduce__',\n",
       " '__reduce_ex__',\n",
       " '__repr__',\n",
       " '__setattr__',\n",
       " '__sizeof__',\n",
       " '__str__',\n",
       " '__subclasshook__',\n",
       " '__weakref__',\n",
       " '_per_letter_annotations',\n",
       " '_seq',\n",
       " '_set_per_letter_annotations',\n",
       " '_set_seq',\n",
       " 'annotations',\n",
       " 'count',\n",
       " 'dbxrefs',\n",
       " 'description',\n",
       " 'features',\n",
       " 'format',\n",
       " 'id',\n",
       " 'islower',\n",
       " 'isupper',\n",
       " 'letter_annotations',\n",
       " 'lower',\n",
       " 'name',\n",
       " 'reverse_complement',\n",
       " 'seq',\n",
       " 'translate',\n",
       " 'upper']"
      ]
     },
     "execution_count": 6,
     "metadata": {},
     "output_type": "execute_result"
    }
   ],
   "source": [
    "record = list(SeqIO.parse('/bio/data/sars-cov-2.gb', 'genbank'))[0]\n",
    "record = SeqIO.read('/bio/data/sars-cov-2.gb', 'genbank')\n",
    "\n",
    "record\n",
    "\n",
    "# Ways to inspect Python objects\n",
    "\n",
    "# 1. dir()\n",
    "dir(record)\n",
    "\n",
    "\n"
   ]
  },
  {
   "cell_type": "code",
   "execution_count": 7,
   "metadata": {},
   "outputs": [
    {
     "data": {
      "text/plain": [
       "'NC_045512.2'"
      ]
     },
     "execution_count": 7,
     "metadata": {},
     "output_type": "execute_result"
    }
   ],
   "source": [
    "import inspect\n",
    "import pprint\n",
    "\n",
    "def explore(obj: object) -> dict:\n",
    "\n",
    "    # 1. Get all members\n",
    "    member_list = inspect.getmembers(obj)\n",
    "\n",
    "    # 2. Convert to dict for ease of use\n",
    "    member_dict = { member[0]:member[1] for member in member_list }\n",
    "\n",
    "    # 3. Remove private members\n",
    "    public_member_dict = {  key:value\n",
    "                            for key,value in member_dict.items()\n",
    "                            if not key.startswith('_') }\n",
    "\n",
    "    # 4. Remove methods\n",
    "    public_attribute_dict = {   key:value\n",
    "                                for key,value in public_member_dict.items()\n",
    "                                if not inspect.ismethod(value) }\n",
    "\n",
    "    return public_attribute_dict\n",
    "\n",
    "list(explore(record).keys())\n",
    "\n",
    "explore(record)['seq']\n",
    "\n",
    "record.id\n"
   ]
  }
 ],
 "metadata": {
  "kernelspec": {
   "display_name": "bio-env",
   "language": "python",
   "name": "python3"
  },
  "language_info": {
   "codemirror_mode": {
    "name": "ipython",
    "version": 3
   },
   "file_extension": ".py",
   "mimetype": "text/x-python",
   "name": "python",
   "nbconvert_exporter": "python",
   "pygments_lexer": "ipython3",
   "version": "3.10.6"
  },
  "orig_nbformat": 4,
  "vscode": {
   "interpreter": {
    "hash": "c1751468fa905f8624fe7c0bbac69bba88e0a68cb0649fca4acd6ef398749367"
   }
  }
 },
 "nbformat": 4,
 "nbformat_minor": 2
}
